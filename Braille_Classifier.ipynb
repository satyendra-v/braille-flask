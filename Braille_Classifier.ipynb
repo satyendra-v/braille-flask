{
  "nbformat": 4,
  "nbformat_minor": 0,
  "metadata": {
    "colab": {
      "name": "Braille Classifier.ipynb",
      "provenance": [],
      "collapsed_sections": [],
      "include_colab_link": true
    },
    "kernelspec": {
      "name": "python3",
      "display_name": "Python 3"
    },
    "language_info": {
      "name": "python"
    },
    "accelerator": "GPU"
  },
  "cells": [
    {
      "cell_type": "markdown",
      "metadata": {
        "id": "view-in-github",
        "colab_type": "text"
      },
      "source": [
        "<a href=\"https://colab.research.google.com/github/satyendra-v/braille-flask/blob/master/Braille_Classifier.ipynb\" target=\"_parent\"><img src=\"https://colab.research.google.com/assets/colab-badge.svg\" alt=\"Open In Colab\"/></a>"
      ]
    },
    {
      "cell_type": "markdown",
      "metadata": {
        "id": "FPQffICE2MLx"
      },
      "source": [
        "**Mouting Drive**"
      ]
    },
    {
      "cell_type": "code",
      "metadata": {
        "id": "k2HjSafRUXx0",
        "colab": {
          "base_uri": "https://localhost:8080/"
        },
        "outputId": "7583e87a-d3a0-4c9b-fc42-f497f3c5a65e"
      },
      "source": [
        "from google.colab import drive\n",
        "\n",
        "drive.mount('/content/drive')"
      ],
      "execution_count": null,
      "outputs": [
        {
          "output_type": "stream",
          "text": [
            "Mounted at /content/drive\n"
          ],
          "name": "stdout"
        }
      ]
    },
    {
      "cell_type": "markdown",
      "metadata": {
        "id": "XcJTdgt02KkT"
      },
      "source": [
        "**Path to dataset**"
      ]
    },
    {
      "cell_type": "code",
      "metadata": {
        "id": "RuSuzPYZ10T4"
      },
      "source": [
        "from pathlib import Path\n",
        "rootdir = Path(\"/content/drive/MyDrive/Braille Dataset\")\n",
        "\n",
        "rootdir_new = Path(\"/content/drive/MyDrive/Braille Collected Dataset\")"
      ],
      "execution_count": null,
      "outputs": []
    },
    {
      "cell_type": "code",
      "metadata": {
        "id": "pqYbzdkBLIY8"
      },
      "source": [
        "import cv2\n",
        "import random \n",
        "import os\n",
        "import pandas as pd\n",
        "import seaborn as sns\n",
        "from matplotlib import pyplot as plt\n",
        "\n",
        "\n",
        "images = []\n",
        "labels = []\n",
        "path = []\n",
        "\n",
        "for folder in os.listdir(rootdir):\n",
        "  for image in os.listdir(str(rootdir) + '/' + folder):\n",
        "    images.append(os.path.join(rootdir, folder, image))\n",
        "    path.append(os.path.join(rootdir, folder, image))\n",
        "    labels.append(folder)\n",
        "    \n",
        "every_cat = []\n",
        "for folder in os.listdir(rootdir):\n",
        "    for image in os.listdir(str(rootdir) + '/' + folder):\n",
        "        every_cat.append(os.path.join(rootdir, folder, image))\n",
        "        break"
      ],
      "execution_count": null,
      "outputs": []
    },
    {
      "cell_type": "markdown",
      "metadata": {
        "id": "7Vm_PWdq2fsp"
      },
      "source": [
        "**Count Plot**"
      ]
    },
    {
      "cell_type": "code",
      "metadata": {
        "id": "A3GWIveGZLYd",
        "colab": {
          "base_uri": "https://localhost:8080/",
          "height": 406
        },
        "outputId": "6f61c66c-7e5c-4f48-aeed-2cf2aca3e439"
      },
      "source": [
        "data = pd.DataFrame(columns=['path','label'])\n",
        "data['path'] = path\n",
        "data['label'] = labels\n",
        "\n",
        "data['label'] = data['label'].astype('category')\n",
        "\n",
        "plt.figure(figsize=(20,8))\n",
        "sns.countplot(data=data, x='label');"
      ],
      "execution_count": null,
      "outputs": [
        {
          "output_type": "display_data",
          "data": {
            "image/png": "[encoded data removed]",
            "text/plain": [
              "<Figure size 1440x576 with 1 Axes>"
            ]
          },
          "metadata": {
            "tags": [],
            "needs_background": "light"
          }
        }
      ]
    },
    {
      "cell_type": "code",
      "metadata": {
        "colab": {
          "base_uri": "https://localhost:8080/",
          "height": 204
        },
        "id": "MbJqHABaB__H",
        "outputId": "193837cc-d6ec-4a27-f6aa-a9577f76b77a"
      },
      "source": [
        "data.head()"
      ],
      "execution_count": null,
      "outputs": [
        {
          "output_type": "execute_result",
          "data": {
            "text/html": [
              "<div>\n",
              "<style scoped>\n",
              "    .dataframe tbody tr th:only-of-type {\n",
              "        vertical-align: middle;\n",
              "    }\n",
              "\n",
              "    .dataframe tbody tr th {\n",
              "        vertical-align: top;\n",
              "    }\n",
              "\n",
              "    .dataframe thead th {\n",
              "        text-align: right;\n",
              "    }\n",
              "</style>\n",
              "<table border=\"1\" class=\"dataframe\">\n",
              "  <thead>\n",
              "    <tr style=\"text-align: right;\">\n",
              "      <th></th>\n",
              "      <th>path</th>\n",
              "      <th>label</th>\n",
              "    </tr>\n",
              "  </thead>\n",
              "  <tbody>\n",
              "    <tr>\n",
              "      <th>1555</th>\n",
              "      <td>/content/drive/MyDrive/Braille Dataset/o/o1.JP...</td>\n",
              "      <td>o</td>\n",
              "    </tr>\n",
              "    <tr>\n",
              "      <th>1556</th>\n",
              "      <td>/content/drive/MyDrive/Braille Dataset/o/o1.JP...</td>\n",
              "      <td>o</td>\n",
              "    </tr>\n",
              "    <tr>\n",
              "      <th>1557</th>\n",
              "      <td>/content/drive/MyDrive/Braille Dataset/o/o1.JP...</td>\n",
              "      <td>o</td>\n",
              "    </tr>\n",
              "    <tr>\n",
              "      <th>1558</th>\n",
              "      <td>/content/drive/MyDrive/Braille Dataset/o/o1.JP...</td>\n",
              "      <td>o</td>\n",
              "    </tr>\n",
              "    <tr>\n",
              "      <th>1559</th>\n",
              "      <td>/content/drive/MyDrive/Braille Dataset/o/o1.JP...</td>\n",
              "      <td>o</td>\n",
              "    </tr>\n",
              "  </tbody>\n",
              "</table>\n",
              "</div>"
            ],
            "text/plain": [
              "                                                   path label\n",
              "1555  /content/drive/MyDrive/Braille Dataset/o/o1.JP...     o\n",
              "1556  /content/drive/MyDrive/Braille Dataset/o/o1.JP...     o\n",
              "1557  /content/drive/MyDrive/Braille Dataset/o/o1.JP...     o\n",
              "1558  /content/drive/MyDrive/Braille Dataset/o/o1.JP...     o\n",
              "1559  /content/drive/MyDrive/Braille Dataset/o/o1.JP...     o"
            ]
          },
          "metadata": {
            "tags": []
          },
          "execution_count": 13
        }
      ]
    },
    {
      "cell_type": "markdown",
      "metadata": {
        "id": "r7HCPAvz2kp5"
      },
      "source": [
        "**Plot of Every Category images**"
      ]
    },
    {
      "cell_type": "code",
      "metadata": {
        "colab": {
          "base_uri": "https://localhost:8080/",
          "height": 540
        },
        "id": "lLYRHJhcP2Di",
        "outputId": "1728f04a-bca8-498a-ac30-cd981bc2ad96"
      },
      "source": [
        "#plot to show every category\n",
        "\n",
        "plt.figure(1, figsize=(15, 9))\n",
        "n = 0\n",
        "for i in range(len(every_cat)):\n",
        "  n += 1\n",
        "  random_img = every_cat[i]\n",
        "  imgs = cv2.imread(random_img)\n",
        "  plt.subplot(5, 6, n)\n",
        "  plt.xticks([])\n",
        "  plt.yticks([])\n",
        "  plt.imshow(imgs)\n",
        "\n",
        "  #Title of the image\n",
        "  os.path.split(random_img)\n",
        "  a = os.path.split(os.path.split(random_img)[0])\n",
        "  title = \"Braille of \\\"\" +a[1]+\"\\\"\"\n",
        "  plt.title(title)\n",
        "\n",
        "plt.show()"
      ],
      "execution_count": null,
      "outputs": [
        {
          "output_type": "display_data",
          "data": {
            "image/png": "[encoded data removed]",
            "text/plain": [
              "<Figure size 1080x648 with 26 Axes>"
            ]
          },
          "metadata": {
            "tags": []
          }
        }
      ]
    },
    {
      "cell_type": "markdown",
      "metadata": {
        "id": "o-6hlxes2xXa"
      },
      "source": [
        "**Plot of some random images**"
      ]
    },
    {
      "cell_type": "code",
      "metadata": {
        "colab": {
          "base_uri": "https://localhost:8080/",
          "height": 540
        },
        "id": "FKyBWKhYBsmp",
        "outputId": "067daa71-3ef7-4927-b16e-18c18d18d1b5"
      },
      "source": [
        "#Plot to show some random images\n",
        "import numpy as np\n",
        "\n",
        "plt.figure(1, figsize=(15, 9))\n",
        "n = 0\n",
        "for i in range(16):\n",
        "  n += 1\n",
        "  random_img = random.choice(images)\n",
        "  imgs = cv2.imread(random_img)\n",
        "  plt.subplot(4, 4, n)\n",
        "  plt.xticks([])\n",
        "  plt.yticks([])\n",
        "  plt.imshow(imgs)\n",
        "  os.path.split(random_img)\n",
        "\n",
        "  #Title of the image\n",
        "  a = os.path.split(os.path.split(random_img)[0])\n",
        "  title = \"Braille of \\\"\" +a[1]+\"\\\"\"\n",
        "  plt.title(title)\n",
        "\n",
        "plt.show()"
      ],
      "execution_count": null,
      "outputs": [
        {
          "output_type": "display_data",
          "data": {
            "image/png": "[encoded data removed]",
            "text/plain": [
              "<Figure size 1080x648 with 16 Axes>"
            ]
          },
          "metadata": {
            "tags": []
          }
        }
      ]
    },
    {
      "cell_type": "markdown",
      "metadata": {
        "id": "Cr7LMvEHIXvx"
      },
      "source": [
        "**Data Augmentation for second dataset**"
      ]
    },
    {
      "cell_type": "code",
      "metadata": {
        "id": "XVt41Cai98Ft"
      },
      "source": [
        "from numpy import expand_dims\n",
        "from keras.preprocessing.image import load_img\n",
        "from keras.preprocessing.image import img_to_array\n",
        "from keras.preprocessing.image import ImageDataGenerator\n",
        "from matplotlib import pyplot\n",
        "from functools import partial\n",
        "\n",
        "root_directory = '/content/drive/MyDrive/Braille Collected Dataset'\n",
        "list = ('a','b','c','d','e','f','g','h','i','j','k','l','m','n','o','p','q','r','s','t','u','v','w','x','y','z')\n",
        "  \n",
        "concat_root_path = partial(os.path.join, root_directory)\n",
        "make_directory = partial(os.makedirs, exist_ok=True)\n",
        "  \n",
        "for path_items in map(concat_root_path, list):\n",
        "    make_directory(path_items)\n",
        "\n",
        "#Augmenting all images in \"images\" list\n",
        "for img in new_images:\n",
        "    full_name = os.path.split(img)[1] # a1.jpg\n",
        "    name = full_name.split('.')[0]    # a1\n",
        "    folder = name[0]                  # a\n",
        "    img = load_img(img)\n",
        "    data = img_to_array(img)\n",
        "    samples = expand_dims(data,0)\n",
        "    datagen = ImageDataGenerator(width_shift_range=[-1,1],\n",
        "                                height_shift_range=0.1)\n",
        "    it = datagen.flow(samples, batch_size=1)\n",
        "    for i in range(9):\n",
        "        batch = it.next()\n",
        "        image = batch[0].astype('uint8')\n",
        "        cv2.imwrite('/content/drive/MyDrive/Braille Collected Dataset/' + folder + '/' + name + '.aug' + str(i) +'.jpg',image)\n"
      ],
      "execution_count": null,
      "outputs": []
    },
    {
      "cell_type": "markdown",
      "metadata": {
        "id": "BUCgOI38WAvd"
      },
      "source": [
        "**Splitting data to training and testing**"
      ]
    },
    {
      "cell_type": "code",
      "metadata": {
        "colab": {
          "base_uri": "https://localhost:8080/"
        },
        "id": "SiqFwKI1U64K",
        "outputId": "ec136774-65b0-41f6-dc77-979473a127b7"
      },
      "source": [
        "from keras.preprocessing.image import ImageDataGenerator\n",
        "datagen = ImageDataGenerator(rotation_range=20,\n",
        "                             shear_range=10,\n",
        "                             validation_split=0.2)\n",
        "\n",
        "train_generator = datagen.flow_from_directory(rootdir,\n",
        "                                              target_size=(28,28),\n",
        "                                              subset='training')\n",
        "\n",
        "val_generator = datagen.flow_from_directory(rootdir,\n",
        "                                            target_size=(28,28),\n",
        "                                            subset='validation')\n"
      ],
      "execution_count": null,
      "outputs": [
        {
          "output_type": "stream",
          "text": [
            "Found 1248 images belonging to 27 classes.\n",
            "Found 312 images belonging to 27 classes.\n"
          ],
          "name": "stdout"
        }
      ]
    },
    {
      "cell_type": "code",
      "metadata": {
        "colab": {
          "base_uri": "https://localhost:8080/"
        },
        "id": "oTt-mp9IZDDY",
        "outputId": "d10a647a-121b-49b1-fd23-244a85de9ee0"
      },
      "source": [
        "train_generator_new = datagen.flow_from_directory(rootdir_new,\n",
        "                                              target_size=(28,28),\n",
        "                                              subset='training')\n",
        "\n",
        "val_generator_new = datagen.flow_from_directory(rootdir_new,\n",
        "                                            target_size=(28,28),\n",
        "                                            subset='validation')\n"
      ],
      "execution_count": null,
      "outputs": [
        {
          "output_type": "stream",
          "text": [
            "Found 696 images belonging to 27 classes.\n",
            "Found 174 images belonging to 27 classes.\n"
          ],
          "name": "stdout"
        }
      ]
    },
    {
      "cell_type": "markdown",
      "metadata": {
        "id": "CMwzrEHoJvf_"
      },
      "source": [
        "# **CNN Model**"
      ]
    },
    {
      "cell_type": "code",
      "metadata": {
        "id": "AsFIDVhY2R6M"
      },
      "source": [
        "from keras import backend as K\n",
        "from keras import layers as L\n",
        "from keras.models import Model,load_model\n",
        "from keras.regularizers import l2\n",
        "from keras.callbacks import ModelCheckpoint,ReduceLROnPlateau,EarlyStopping\n",
        "\n",
        "K.clear_session()\n",
        "reduce_lr = ReduceLROnPlateau(patience=8,verbose=0)\n",
        "early_stop = EarlyStopping(patience=15,verbose=1)\n",
        "\n",
        "entry = L.Input(shape=(28,28,3))\n",
        "x = L.SeparableConv2D(64,(3,3),activation='relu')(entry)\n",
        "x = L.MaxPooling2D((2,2))(x)\n",
        "x = L.SeparableConv2D(128,(3,3),activation='relu')(x)\n",
        "x = L.MaxPooling2D((2,2))(x)\n",
        "x = L.SeparableConv2D(256,(2,2),activation='relu')(x)\n",
        "x = L.GlobalMaxPooling2D()(x)\n",
        "x = L.Dense(256)(x)\n",
        "x = L.LeakyReLU()(x)\n",
        "x = L.Dense(64,kernel_regularizer=l2(2e-4))(x)\n",
        "x = L.LeakyReLU()(x)\n",
        "x = L.Dense(27,activation='softmax')(x)\n",
        "\n",
        "model = Model(entry,x)\n",
        "model.compile(loss='categorical_crossentropy',optimizer='adam',metrics=['accuracy'])"
      ],
      "execution_count": null,
      "outputs": []
    },
    {
      "cell_type": "code",
      "metadata": {
        "colab": {
          "base_uri": "https://localhost:8080/"
        },
        "id": "3ECd_cguJwJ5",
        "outputId": "ce017a54-36e3-4aa9-fd68-5fbf32263860"
      },
      "source": [
        "history = model.fit_generator(train_generator,\n",
        "                              validation_data=val_generator,\n",
        "                              epochs=30,\n",
        "                              callbacks=[reduce_lr,early_stop],\n",
        "                              verbose=1)\n"
      ],
      "execution_count": null,
      "outputs": [
        {
          "output_type": "stream",
          "text": [
            "/usr/local/lib/python3.7/dist-packages/keras/engine/training.py:1915: UserWarning: `Model.fit_generator` is deprecated and will be removed in a future version. Please use `Model.fit`, which supports generators.\n",
            "  warnings.warn('`Model.fit_generator` is deprecated and '\n"
          ],
          "name": "stderr"
        },
        {
          "output_type": "stream",
          "text": [
            "Epoch 1/30\n",
            "39/39 [==============================] - 516s 12s/step - loss: 3.2972 - accuracy: 0.0553 - val_loss: 3.0692 - val_accuracy: 0.1635\n",
            "Epoch 2/30\n",
            "39/39 [==============================] - 2s 62ms/step - loss: 2.8680 - accuracy: 0.1980 - val_loss: 2.3107 - val_accuracy: 0.3077\n",
            "Epoch 3/30\n",
            "39/39 [==============================] - 2s 61ms/step - loss: 2.1942 - accuracy: 0.3599 - val_loss: 1.7611 - val_accuracy: 0.4808\n",
            "Epoch 4/30\n",
            "39/39 [==============================] - 2s 61ms/step - loss: 1.7754 - accuracy: 0.4718 - val_loss: 1.3978 - val_accuracy: 0.6378\n",
            "Epoch 5/30\n",
            "39/39 [==============================] - 2s 61ms/step - loss: 1.3924 - accuracy: 0.6364 - val_loss: 1.2686 - val_accuracy: 0.6346\n",
            "Epoch 6/30\n",
            "39/39 [==============================] - 2s 61ms/step - loss: 1.3071 - accuracy: 0.6238 - val_loss: 1.1284 - val_accuracy: 0.6667\n",
            "Epoch 7/30\n",
            "39/39 [==============================] - 2s 61ms/step - loss: 1.1508 - accuracy: 0.6784 - val_loss: 1.0527 - val_accuracy: 0.7340\n",
            "Epoch 8/30\n",
            "39/39 [==============================] - 2s 59ms/step - loss: 0.9619 - accuracy: 0.7463 - val_loss: 0.7949 - val_accuracy: 0.7885\n",
            "Epoch 9/30\n",
            "39/39 [==============================] - 2s 58ms/step - loss: 0.8779 - accuracy: 0.7588 - val_loss: 0.6749 - val_accuracy: 0.8269\n",
            "Epoch 10/30\n",
            "39/39 [==============================] - 3s 65ms/step - loss: 0.7153 - accuracy: 0.8229 - val_loss: 0.7140 - val_accuracy: 0.7981\n",
            "Epoch 11/30\n",
            "39/39 [==============================] - 2s 60ms/step - loss: 0.6913 - accuracy: 0.7849 - val_loss: 0.7160 - val_accuracy: 0.8077\n",
            "Epoch 12/30\n",
            "39/39 [==============================] - 2s 62ms/step - loss: 0.6083 - accuracy: 0.8280 - val_loss: 0.6107 - val_accuracy: 0.8397\n",
            "Epoch 13/30\n",
            "39/39 [==============================] - 2s 60ms/step - loss: 0.4851 - accuracy: 0.8611 - val_loss: 0.5498 - val_accuracy: 0.8622\n",
            "Epoch 14/30\n",
            "39/39 [==============================] - 2s 59ms/step - loss: 0.4424 - accuracy: 0.8909 - val_loss: 0.4525 - val_accuracy: 0.8654\n",
            "Epoch 15/30\n",
            "39/39 [==============================] - 2s 60ms/step - loss: 0.4414 - accuracy: 0.8862 - val_loss: 0.5798 - val_accuracy: 0.8590\n",
            "Epoch 16/30\n",
            "39/39 [==============================] - 2s 60ms/step - loss: 0.3439 - accuracy: 0.9052 - val_loss: 0.4858 - val_accuracy: 0.8846\n",
            "Epoch 17/30\n",
            "39/39 [==============================] - 2s 61ms/step - loss: 0.3882 - accuracy: 0.8830 - val_loss: 0.4475 - val_accuracy: 0.8718\n",
            "Epoch 18/30\n",
            "39/39 [==============================] - 2s 59ms/step - loss: 0.3594 - accuracy: 0.8914 - val_loss: 0.4451 - val_accuracy: 0.8910\n",
            "Epoch 19/30\n",
            "39/39 [==============================] - 2s 60ms/step - loss: 0.2901 - accuracy: 0.9181 - val_loss: 0.3129 - val_accuracy: 0.9263\n",
            "Epoch 20/30\n",
            "39/39 [==============================] - 2s 59ms/step - loss: 0.2978 - accuracy: 0.9138 - val_loss: 0.4669 - val_accuracy: 0.8846\n",
            "Epoch 21/30\n",
            "39/39 [==============================] - 2s 58ms/step - loss: 0.2679 - accuracy: 0.9284 - val_loss: 0.4426 - val_accuracy: 0.8846\n",
            "Epoch 22/30\n",
            "39/39 [==============================] - 2s 59ms/step - loss: 0.3167 - accuracy: 0.9206 - val_loss: 0.5326 - val_accuracy: 0.8558\n",
            "Epoch 23/30\n",
            "39/39 [==============================] - 2s 59ms/step - loss: 0.3383 - accuracy: 0.8989 - val_loss: 0.3273 - val_accuracy: 0.9167\n",
            "Epoch 24/30\n",
            "39/39 [==============================] - 2s 59ms/step - loss: 0.2441 - accuracy: 0.9365 - val_loss: 0.3767 - val_accuracy: 0.8878\n",
            "Epoch 25/30\n",
            "39/39 [==============================] - 2s 60ms/step - loss: 0.1952 - accuracy: 0.9419 - val_loss: 0.3469 - val_accuracy: 0.9167\n",
            "Epoch 26/30\n",
            "39/39 [==============================] - 2s 62ms/step - loss: 0.1998 - accuracy: 0.9399 - val_loss: 0.3519 - val_accuracy: 0.9038\n",
            "Epoch 27/30\n",
            "39/39 [==============================] - 2s 60ms/step - loss: 0.1443 - accuracy: 0.9645 - val_loss: 0.2345 - val_accuracy: 0.9551\n",
            "Epoch 28/30\n",
            "39/39 [==============================] - 2s 59ms/step - loss: 0.2557 - accuracy: 0.9382 - val_loss: 0.4613 - val_accuracy: 0.8878\n",
            "Epoch 29/30\n",
            "39/39 [==============================] - 2s 59ms/step - loss: 0.2277 - accuracy: 0.9321 - val_loss: 0.2774 - val_accuracy: 0.9359\n",
            "Epoch 30/30\n",
            "39/39 [==============================] - 2s 59ms/step - loss: 0.1988 - accuracy: 0.9424 - val_loss: 0.3145 - val_accuracy: 0.9167\n"
          ],
          "name": "stdout"
        }
      ]
    },
    {
      "cell_type": "code",
      "metadata": {
        "colab": {
          "base_uri": "https://localhost:8080/"
        },
        "id": "mU0aF_W7jF_1",
        "outputId": "08999c48-c38c-4826-9aae-d67a8c112cf7"
      },
      "source": [
        "model.fit_generator(train_generator_new,\n",
        "                              validation_data=val_generator_new,\n",
        "                              epochs=30,\n",
        "                              callbacks=[reduce_lr,early_stop],\n",
        "                              verbose=1)"
      ],
      "execution_count": null,
      "outputs": [
        {
          "output_type": "stream",
          "text": [
            "/usr/local/lib/python3.7/dist-packages/keras/engine/training.py:1915: UserWarning: `Model.fit_generator` is deprecated and will be removed in a future version. Please use `Model.fit`, which supports generators.\n",
            "  warnings.warn('`Model.fit_generator` is deprecated and '\n"
          ],
          "name": "stderr"
        },
        {
          "output_type": "stream",
          "text": [
            "Epoch 1/30\n",
            "22/22 [==============================] - 232s 11s/step - loss: 2.3898 - accuracy: 0.5086 - val_loss: 0.8024 - val_accuracy: 0.7644\n",
            "Epoch 2/30\n",
            "22/22 [==============================] - 1s 65ms/step - loss: 0.6063 - accuracy: 0.8118 - val_loss: 0.3949 - val_accuracy: 0.8851\n",
            "Epoch 3/30\n",
            "22/22 [==============================] - 1s 58ms/step - loss: 0.3546 - accuracy: 0.8966 - val_loss: 0.3225 - val_accuracy: 0.8851\n",
            "Epoch 4/30\n",
            "22/22 [==============================] - 1s 61ms/step - loss: 0.2194 - accuracy: 0.9382 - val_loss: 0.2267 - val_accuracy: 0.9425\n",
            "Epoch 5/30\n",
            "22/22 [==============================] - 1s 60ms/step - loss: 0.2340 - accuracy: 0.9138 - val_loss: 0.2727 - val_accuracy: 0.9138\n",
            "Epoch 6/30\n",
            "22/22 [==============================] - 1s 58ms/step - loss: 0.2170 - accuracy: 0.9267 - val_loss: 0.1799 - val_accuracy: 0.9655\n",
            "Epoch 7/30\n",
            "22/22 [==============================] - 1s 58ms/step - loss: 0.2357 - accuracy: 0.9282 - val_loss: 0.2507 - val_accuracy: 0.8966\n",
            "Epoch 8/30\n",
            "22/22 [==============================] - 1s 59ms/step - loss: 0.1342 - accuracy: 0.9684 - val_loss: 0.1587 - val_accuracy: 0.9425\n",
            "Epoch 9/30\n",
            "22/22 [==============================] - 1s 62ms/step - loss: 0.1430 - accuracy: 0.9655 - val_loss: 0.1094 - val_accuracy: 0.9770\n",
            "Epoch 10/30\n",
            "22/22 [==============================] - 1s 58ms/step - loss: 0.1435 - accuracy: 0.9569 - val_loss: 0.1142 - val_accuracy: 0.9713\n",
            "Epoch 11/30\n",
            "22/22 [==============================] - 1s 57ms/step - loss: 0.1245 - accuracy: 0.9670 - val_loss: 0.1742 - val_accuracy: 0.9368\n",
            "Epoch 12/30\n",
            "22/22 [==============================] - 1s 59ms/step - loss: 0.1101 - accuracy: 0.9641 - val_loss: 0.1045 - val_accuracy: 0.9770\n",
            "Epoch 13/30\n",
            "22/22 [==============================] - 1s 59ms/step - loss: 0.1868 - accuracy: 0.9569 - val_loss: 0.1105 - val_accuracy: 0.9828\n",
            "Epoch 14/30\n",
            "22/22 [==============================] - 1s 59ms/step - loss: 0.1189 - accuracy: 0.9713 - val_loss: 0.1244 - val_accuracy: 0.9655\n",
            "Epoch 15/30\n",
            "22/22 [==============================] - 1s 60ms/step - loss: 0.0797 - accuracy: 0.9842 - val_loss: 0.0913 - val_accuracy: 0.9713\n",
            "Epoch 16/30\n",
            "22/22 [==============================] - 1s 59ms/step - loss: 0.0699 - accuracy: 0.9856 - val_loss: 0.0723 - val_accuracy: 0.9943\n",
            "Epoch 17/30\n",
            "22/22 [==============================] - 1s 59ms/step - loss: 0.0648 - accuracy: 0.9914 - val_loss: 0.0676 - val_accuracy: 0.9885\n",
            "Epoch 18/30\n",
            "22/22 [==============================] - 1s 58ms/step - loss: 0.0800 - accuracy: 0.9813 - val_loss: 0.0623 - val_accuracy: 0.9885\n",
            "Epoch 19/30\n",
            "22/22 [==============================] - 1s 59ms/step - loss: 0.0913 - accuracy: 0.9770 - val_loss: 0.1826 - val_accuracy: 0.9655\n",
            "Epoch 20/30\n",
            "22/22 [==============================] - 1s 61ms/step - loss: 0.0880 - accuracy: 0.9799 - val_loss: 0.0664 - val_accuracy: 0.9885\n",
            "Epoch 21/30\n",
            "22/22 [==============================] - 1s 59ms/step - loss: 0.0763 - accuracy: 0.9756 - val_loss: 0.1393 - val_accuracy: 0.9540\n",
            "Epoch 22/30\n",
            "22/22 [==============================] - 1s 66ms/step - loss: 0.0525 - accuracy: 0.9957 - val_loss: 0.0523 - val_accuracy: 0.9885\n",
            "Epoch 23/30\n",
            "22/22 [==============================] - 1s 60ms/step - loss: 0.0719 - accuracy: 0.9813 - val_loss: 0.1613 - val_accuracy: 0.9598\n",
            "Epoch 24/30\n",
            "22/22 [==============================] - 1s 58ms/step - loss: 0.0545 - accuracy: 0.9899 - val_loss: 0.1029 - val_accuracy: 0.9713\n",
            "Epoch 25/30\n",
            "22/22 [==============================] - 1s 60ms/step - loss: 0.0618 - accuracy: 0.9885 - val_loss: 0.0878 - val_accuracy: 0.9770\n",
            "Epoch 26/30\n",
            "22/22 [==============================] - 1s 62ms/step - loss: 0.0626 - accuracy: 0.9871 - val_loss: 0.0622 - val_accuracy: 0.9943\n",
            "Epoch 27/30\n",
            "22/22 [==============================] - 1s 64ms/step - loss: 0.0466 - accuracy: 0.9943 - val_loss: 0.0924 - val_accuracy: 0.9770\n",
            "Epoch 28/30\n",
            "22/22 [==============================] - 1s 60ms/step - loss: 0.0541 - accuracy: 0.9871 - val_loss: 0.0575 - val_accuracy: 0.9885\n",
            "Epoch 29/30\n",
            "22/22 [==============================] - 1s 61ms/step - loss: 0.0510 - accuracy: 0.9928 - val_loss: 0.0495 - val_accuracy: 0.9885\n",
            "Epoch 30/30\n",
            "22/22 [==============================] - 1s 60ms/step - loss: 0.0618 - accuracy: 0.9928 - val_loss: 0.1041 - val_accuracy: 0.9885\n"
          ],
          "name": "stdout"
        },
        {
          "output_type": "execute_result",
          "data": {
            "text/plain": [
              "<keras.callbacks.History at 0x7f80786dca50>"
            ]
          },
          "metadata": {
            "tags": []
          },
          "execution_count": 7
        }
      ]
    },
    {
      "cell_type": "code",
      "metadata": {
        "id": "8X4k8JdvjDrs"
      },
      "source": [
        "model.save(\"/content/drive/MyDrive/BrailleNet.h5\")"
      ],
      "execution_count": null,
      "outputs": []
    },
    {
      "cell_type": "markdown",
      "metadata": {
        "id": "vZ894bylJ2cq"
      },
      "source": [
        "**Accuracy**"
      ]
    },
    {
      "cell_type": "code",
      "metadata": {
        "colab": {
          "base_uri": "https://localhost:8080/"
        },
        "id": "R3dboIe7572I",
        "outputId": "e59b7cdb-2cf2-4851-eb26-2290bd576fc0"
      },
      "source": [
        "    model = load_model('BrailleNet.h5')\n",
        "    acc = model.evaluate_generator(val_generator_new)[1]\n",
        "    print('model accuracy: {}'.format(round(acc,4)))"
      ],
      "execution_count": null,
      "outputs": [
        {
          "output_type": "stream",
          "text": [
            "/usr/local/lib/python3.7/dist-packages/keras/engine/training.py:1948: UserWarning: `Model.evaluate_generator` is deprecated and will be removed in a future version. Please use `Model.evaluate`, which supports generators.\n",
            "  warnings.warn('`Model.evaluate_generator` is deprecated and '\n"
          ],
          "name": "stderr"
        },
        {
          "output_type": "stream",
          "text": [
            "model accuracy: 0.977\n"
          ],
          "name": "stdout"
        }
      ]
    },
    {
      "cell_type": "markdown",
      "metadata": {
        "id": "bySe_jLqJ7g6"
      },
      "source": [
        "**Accuracy and Loss Curves**"
      ]
    },
    {
      "cell_type": "code",
      "metadata": {
        "colab": {
          "base_uri": "https://localhost:8080/",
          "height": 530
        },
        "id": "v8acg0NW6D02",
        "outputId": "f71c49da-4879-44be-fab2-19e8f245e948"
      },
      "source": [
        "import matplotlib.pyplot as plt\n",
        "plt.plot(history.history['loss'], label='train loss')\n",
        "plt.plot(history.history['val_loss'], label='val loss')\n",
        "plt.legend()\n",
        "plt.show()\n",
        "plt.savefig('LossVal_loss')\n",
        "\n",
        "# plot the accuracy\n",
        "plt.plot(history.history['accuracy'], label='train acc')\n",
        "plt.plot(history.history['val_accuracy'], label='val acc')\n",
        "plt.legend()\n",
        "plt.show()\n",
        "plt.savefig('AccVal_acc')"
      ],
      "execution_count": null,
      "outputs": [
        {
          "output_type": "display_data",
          "data": {
            "image/png": "[encoded data removed]",
            "text/plain": [
              "<Figure size 432x288 with 1 Axes>"
            ]
          },
          "metadata": {
            "tags": [],
            "needs_background": "light"
          }
        },
        {
          "output_type": "display_data",
          "data": {
            "image/png": "[encoded data removed]",
            "text/plain": [
              "<Figure size 432x288 with 1 Axes>"
            ]
          },
          "metadata": {
            "tags": [],
            "needs_background": "light"
          }
        },
        {
          "output_type": "display_data",
          "data": {
            "text/plain": [
              "<Figure size 432x288 with 0 Axes>"
            ]
          },
          "metadata": {
            "tags": []
          }
        }
      ]
    },
    {
      "cell_type": "code",
      "metadata": {
        "colab": {
          "base_uri": "https://localhost:8080/"
        },
        "id": "Wg8rd5en6D_y",
        "outputId": "344d5e9a-8281-4b39-9f65-9795131bac7a"
      },
      "source": [
        "pred = model.predict(val_generator)\n",
        "pred"
      ],
      "execution_count": null,
      "outputs": [
        {
          "output_type": "execute_result",
          "data": {
            "text/plain": [
              "array([[4.58342784e-15, 1.17463483e-18, 1.09388020e-14, ...,\n",
              "        6.62189662e-01, 6.13027951e-04, 1.94490875e-17],\n",
              "       [1.83265020e-05, 6.82300936e-08, 1.17776246e-04, ...,\n",
              "        2.49982531e-06, 9.04216245e-03, 3.44971912e-10],\n",
              "       [6.75183581e-03, 8.46578700e-08, 6.84255065e-06, ...,\n",
              "        1.06689839e-11, 1.50135304e-09, 3.30860424e-08],\n",
              "       ...,\n",
              "       [1.62281050e-10, 1.46777495e-07, 1.71157988e-09, ...,\n",
              "        2.30570033e-04, 1.10054157e-06, 1.18420612e-11],\n",
              "       [2.59063467e-02, 3.42825006e-05, 8.60650398e-05, ...,\n",
              "        2.43371368e-09, 2.15045137e-08, 2.82314686e-05],\n",
              "       [2.47782990e-01, 5.21234300e-09, 4.80222487e-04, ...,\n",
              "        2.21454655e-09, 5.32585138e-04, 4.84834963e-08]], dtype=float32)"
            ]
          },
          "metadata": {
            "tags": []
          },
          "execution_count": 8
        }
      ]
    },
    {
      "cell_type": "markdown",
      "metadata": {
        "id": "KN1Dq0NaO-Ql"
      },
      "source": [
        "# **Custom Input prediction**"
      ]
    },
    {
      "cell_type": "code",
      "metadata": {
        "id": "_oXxUK1jAB16"
      },
      "source": [
        "from imutils.perspective import four_point_transform as FPT\n",
        "from collections import Counter\n",
        "import matplotlib.pyplot as plt\n",
        "from imutils import contours\n",
        "from skimage import io\n",
        "import numpy as np\n",
        "import imutils\n",
        "import cv2\n",
        "import re\n",
        "from tensorflow.keras.preprocessing import image\n",
        "\n",
        "input = \"/content/drive/MyDrive/Sample Braille Dataset/welcome to machine learning.png\"\n",
        "# welcome to machine learning"
      ],
      "execution_count": null,
      "outputs": []
    },
    {
      "cell_type": "code",
      "metadata": {
        "id": "gpNlLkK2ARKv"
      },
      "source": [
        "def display(img):\n",
        "  fig = plt.figure(figsize = (15,15))\n",
        "  plt.imshow(img, cmap=\"gray\")\n",
        "  plt.axis('off')\n",
        "  plt.show()\n",
        "\n",
        "def display_segement(img):\n",
        "  fig = plt.figure(figsize = (2,2))\n",
        "  plt.imshow(img, cmap=\"gray\")\n",
        "  plt.axis('off')\n",
        "  plt.show()"
      ],
      "execution_count": null,
      "outputs": []
    },
    {
      "cell_type": "code",
      "metadata": {
        "id": "YcBQa40wSNil"
      },
      "source": [
        "def get_image(url, iter = 2, width = None):\n",
        "  img = image.load_img(url)\n",
        "  img = io.imread(url)\n",
        "  if width:\n",
        "    img = imutils.resize(img, width)\n",
        "  ans = img.copy()\n",
        "  accumEdged = np.zeros(img.shape[:2], dtype=\"uint8\")\n",
        "  # convert image to black and white\n",
        "  gray = cv2.cvtColor(img, cv2.COLOR_BGR2GRAY)\n",
        "  #print(\"gray\")\n",
        "  #display(gray)\n",
        "  # blur to remove some of the noise\n",
        "  blurred = cv2.GaussianBlur(gray, (5, 5), 0)\n",
        "  #print(\"blurred\")\n",
        "  #display(blurred)\n",
        "  # get edges\n",
        "  edged = cv2.Canny(blurred, 75, 200)\n",
        "  #print(\"edged\")\n",
        "  #display(edged)\n",
        "  accumEdged = cv2.bitwise_or(accumEdged, edged)\n",
        "  #print(\"accumEdged\")\n",
        "  #display(accumEdged)\n",
        "  paper = img.copy()\n",
        "  thresh = cv2.threshold(gray, 0, 255, cv2.THRESH_BINARY_INV | cv2.THRESH_OTSU)[1]\n",
        "  \n",
        "  #print(\"thresh\")\n",
        "  #display(thresh)\n",
        "  # erode and dilate to remove some of the unnecessary detail\n",
        "  kernel = np.ones((5,5), np.uint8)\n",
        "  thresh = cv2.erode(thresh, kernel, iterations = iter)\n",
        "  #print(\"erode\")\n",
        "  #display(thresh)\n",
        "  thresh = cv2.dilate(thresh, kernel, iterations = iter)\n",
        "  #print(\"dilate\")\n",
        "  #display(thresh)\n",
        "\n",
        "  return img, paper, gray, edged, thresh\n",
        "\n",
        "img, paper, gray, edged, thresh = get_image(input, iter = 0, width = 1500)"
      ],
      "execution_count": null,
      "outputs": []
    },
    {
      "cell_type": "markdown",
      "metadata": {
        "id": "hWxwDBcF3UgM"
      },
      "source": [
        "**Image Segmentation**"
      ]
    },
    {
      "cell_type": "code",
      "metadata": {
        "id": "BS_i2F82AeuP"
      },
      "source": [
        "x, y, w, h = 10, 15, 45, 70\n",
        "\n",
        "width_of_braille_cell = 55\n",
        "\n",
        "height_of_braille_image, width_of_braille_image, ch = img.shape\n",
        "no_of_braille_cells = width_of_braille_image // width_of_braille_cell\n",
        "\n",
        "segments = []\n",
        "\n",
        "segment = 1\n",
        "for i in range(no_of_braille_cells):\n",
        "    cv2.rectangle(img, (x, y), (x + w, y + h), (255, 0, 0), 1)\n",
        "    # cv2.circle(img, (20,29), 5, (255, 25, 234), -1)\n",
        "    new_img = img[y:y+h, x:x+w]\n",
        "    # new_img = new_img.resize((28,28))\n",
        "    crop = cv2.imwrite(str(segment)+\".png\", new_img)\n",
        "    cv2.imwrite(str(segment)+\".png\", new_img)\n",
        "    segments.append(str(segment)+\".png\")\n",
        "    segment = segment+1\n",
        "    x = x+55\n"
      ],
      "execution_count": null,
      "outputs": []
    },
    {
      "cell_type": "code",
      "metadata": {
        "colab": {
          "base_uri": "https://localhost:8080/",
          "height": 88
        },
        "id": "zhzP6j5zF3Bb",
        "outputId": "2ef6a934-4015-45a3-878c-970ed5575f0b"
      },
      "source": [
        " display(img)"
      ],
      "execution_count": null,
      "outputs": [
        {
          "output_type": "display_data",
          "data": {
            "image/png": "[encoded data removed]",
            "text/plain": [
              "<Figure size 1080x1080 with 1 Axes>"
            ]
          },
          "metadata": {
            "tags": [],
            "needs_background": "light"
          }
        }
      ]
    },
    {
      "cell_type": "code",
      "metadata": {
        "id": "BYRTP9IvFKL7",
        "colab": {
          "base_uri": "https://localhost:8080/"
        },
        "outputId": "6945ee41-c544-4e47-d7fb-674c9d239f7e"
      },
      "source": [
        "segments"
      ],
      "execution_count": null,
      "outputs": [
        {
          "output_type": "execute_result",
          "data": {
            "text/plain": [
              "['1.png',\n",
              " '2.png',\n",
              " '3.png',\n",
              " '4.png',\n",
              " '5.png',\n",
              " '6.png',\n",
              " '7.png',\n",
              " '8.png',\n",
              " '9.png',\n",
              " '10.png',\n",
              " '11.png',\n",
              " '12.png',\n",
              " '13.png',\n",
              " '14.png',\n",
              " '15.png',\n",
              " '16.png',\n",
              " '17.png',\n",
              " '18.png',\n",
              " '19.png',\n",
              " '20.png',\n",
              " '21.png',\n",
              " '22.png',\n",
              " '23.png',\n",
              " '24.png',\n",
              " '25.png',\n",
              " '26.png',\n",
              " '27.png']"
            ]
          },
          "metadata": {
            "tags": []
          },
          "execution_count": 40
        }
      ]
    },
    {
      "cell_type": "code",
      "metadata": {
        "id": "AQsJAOKrHqtF"
      },
      "source": [
        "import numpy as np\n",
        "import pandas as pd\n",
        "def model_prediction(x):\n",
        "    x=np.expand_dims(x,axis=0)\n",
        "    model.predict(x)\n",
        "\n",
        "def get_character(x):\n",
        "    a=np.argmax(model.predict(x), axis=1)\n",
        "    character = chr(ord('a')+a[0])\n",
        "    return character"
      ],
      "execution_count": null,
      "outputs": []
    },
    {
      "cell_type": "markdown",
      "metadata": {
        "id": "Ud9XgS233gPy"
      },
      "source": [
        "**Character classification using CNN Model**"
      ]
    },
    {
      "cell_type": "code",
      "metadata": {
        "id": "8jF97CEAFQuT",
        "colab": {
          "base_uri": "https://localhost:8080/",
          "height": 1000
        },
        "outputId": "98744b7a-7f61-4f9b-95b6-db805a765501"
      },
      "source": [
        "final_text = \"\"\n",
        "\n",
        "for seg in segments:\n",
        "    seg1 = image.load_img(seg)\n",
        "    seg1 = seg1.resize((28,28))\n",
        "    display_segement(seg1)\n",
        "    x=image.img_to_array(seg1)\n",
        "    x=np.expand_dims(x,axis=0)\n",
        "    a=np.argmax(model.predict(x), axis=1)\n",
        "    character = chr(ord('a')+a[0])\n",
        "    if(a[0] == 26):\n",
        "        final_text = final_text + \" \"\n",
        "    else:\n",
        "        final_text = final_text + character\n",
        "    print(character)\n",
        "    print(a[0])"
      ],
      "execution_count": null,
      "outputs": [
        {
          "output_type": "display_data",
          "data": {
            "image/png": "[encoded data removed]",
            "text/plain": [
              "<Figure size 144x144 with 1 Axes>"
            ]
          },
          "metadata": {
            "tags": [],
            "needs_background": "light"
          }
        },
        {
          "output_type": "stream",
          "text": [
            "w\n",
            "22\n"
          ],
          "name": "stdout"
        },
        {
          "output_type": "display_data",
          "data": {
            "image/png": "[encoded data removed]",
            "text/plain": [
              "<Figure size 144x144 with 1 Axes>"
            ]
          },
          "metadata": {
            "tags": [],
            "needs_background": "light"
          }
        },
        {
          "output_type": "stream",
          "text": [
            "e\n",
            "4\n"
          ],
          "name": "stdout"
        },
        {
          "output_type": "display_data",
          "data": {
            "image/png": "[encoded data removed]",
            "text/plain": [
              "<Figure size 144x144 with 1 Axes>"
            ]
          },
          "metadata": {
            "tags": [],
            "needs_background": "light"
          }
        },
        {
          "output_type": "stream",
          "text": [
            "l\n",
            "11\n"
          ],
          "name": "stdout"
        },
        {
          "output_type": "display_data",
          "data": {
            "image/png": "[encoded data removed]",
            "text/plain": [
              "<Figure size 144x144 with 1 Axes>"
            ]
          },
          "metadata": {
            "tags": [],
            "needs_background": "light"
          }
        },
        {
          "output_type": "stream",
          "text": [
            "c\n",
            "2\n"
          ],
          "name": "stdout"
        },
        {
          "output_type": "display_data",
          "data": {
            "image/png": "[encoded data removed]",
            "text/plain": [
              "<Figure size 144x144 with 1 Axes>"
            ]
          },
          "metadata": {
            "tags": [],
            "needs_background": "light"
          }
        },
        {
          "output_type": "stream",
          "text": [
            "o\n",
            "14\n"
          ],
          "name": "stdout"
        },
        {
          "output_type": "display_data",
          "data": {
            "image/png": "[encoded data removed]",
            "text/plain": [
              "<Figure size 144x144 with 1 Axes>"
            ]
          },
          "metadata": {
            "tags": [],
            "needs_background": "light"
          }
        },
        {
          "output_type": "stream",
          "text": [
            "m\n",
            "12\n"
          ],
          "name": "stdout"
        },
        {
          "output_type": "display_data",
          "data": {
            "image/png": "[encoded data removed]",
            "text/plain": [
              "<Figure size 144x144 with 1 Axes>"
            ]
          },
          "metadata": {
            "tags": [],
            "needs_background": "light"
          }
        },
        {
          "output_type": "stream",
          "text": [
            "e\n",
            "4\n"
          ],
          "name": "stdout"
        },
        {
          "output_type": "display_data",
          "data": {
            "image/png": "[encoded data removed]",
            "text/plain": [
              "<Figure size 144x144 with 1 Axes>"
            ]
          },
          "metadata": {
            "tags": [],
            "needs_background": "light"
          }
        },
        {
          "output_type": "stream",
          "text": [
            "{\n",
            "26\n"
          ],
          "name": "stdout"
        },
        {
          "output_type": "display_data",
          "data": {
            "image/png": "[encoded data removed]",
            "text/plain": [
              "<Figure size 144x144 with 1 Axes>"
            ]
          },
          "metadata": {
            "tags": [],
            "needs_background": "light"
          }
        },
        {
          "output_type": "stream",
          "text": [
            "t\n",
            "19\n"
          ],
          "name": "stdout"
        },
        {
          "output_type": "display_data",
          "data": {
            "image/png": "[encoded data removed]",
            "text/plain": [
              "<Figure size 144x144 with 1 Axes>"
            ]
          },
          "metadata": {
            "tags": [],
            "needs_background": "light"
          }
        },
        {
          "output_type": "stream",
          "text": [
            "o\n",
            "14\n"
          ],
          "name": "stdout"
        },
        {
          "output_type": "display_data",
          "data": {
            "image/png": "[encoded data removed]",
            "text/plain": [
              "<Figure size 144x144 with 1 Axes>"
            ]
          },
          "metadata": {
            "tags": [],
            "needs_background": "light"
          }
        },
        {
          "output_type": "stream",
          "text": [
            "{\n",
            "26\n"
          ],
          "name": "stdout"
        },
        {
          "output_type": "display_data",
          "data": {
            "image/png": "[encoded data removed]",
            "text/plain": [
              "<Figure size 144x144 with 1 Axes>"
            ]
          },
          "metadata": {
            "tags": [],
            "needs_background": "light"
          }
        },
        {
          "output_type": "stream",
          "text": [
            "m\n",
            "12\n"
          ],
          "name": "stdout"
        },
        {
          "output_type": "display_data",
          "data": {
            "image/png": "[encoded data removed]",
            "text/plain": [
              "<Figure size 144x144 with 1 Axes>"
            ]
          },
          "metadata": {
            "tags": [],
            "needs_background": "light"
          }
        },
        {
          "output_type": "stream",
          "text": [
            "a\n",
            "0\n"
          ],
          "name": "stdout"
        },
        {
          "output_type": "display_data",
          "data": {
            "image/png": "[encoded data removed]",
            "text/plain": [
              "<Figure size 144x144 with 1 Axes>"
            ]
          },
          "metadata": {
            "tags": [],
            "needs_background": "light"
          }
        },
        {
          "output_type": "stream",
          "text": [
            "c\n",
            "2\n"
          ],
          "name": "stdout"
        },
        {
          "output_type": "display_data",
          "data": {
            "image/png": "[encoded data removed]",
            "text/plain": [
              "<Figure size 144x144 with 1 Axes>"
            ]
          },
          "metadata": {
            "tags": [],
            "needs_background": "light"
          }
        },
        {
          "output_type": "stream",
          "text": [
            "h\n",
            "7\n"
          ],
          "name": "stdout"
        },
        {
          "output_type": "display_data",
          "data": {
            "image/png": "[encoded data removed]",
            "text/plain": [
              "<Figure size 144x144 with 1 Axes>"
            ]
          },
          "metadata": {
            "tags": [],
            "needs_background": "light"
          }
        },
        {
          "output_type": "stream",
          "text": [
            "i\n",
            "8\n"
          ],
          "name": "stdout"
        },
        {
          "output_type": "display_data",
          "data": {
            "image/png": "[encoded data removed]",
            "text/plain": [
              "<Figure size 144x144 with 1 Axes>"
            ]
          },
          "metadata": {
            "tags": [],
            "needs_background": "light"
          }
        },
        {
          "output_type": "stream",
          "text": [
            "n\n",
            "13\n"
          ],
          "name": "stdout"
        },
        {
          "output_type": "display_data",
          "data": {
            "image/png": "[encoded data removed]",
            "text/plain": [
              "<Figure size 144x144 with 1 Axes>"
            ]
          },
          "metadata": {
            "tags": [],
            "needs_background": "light"
          }
        },
        {
          "output_type": "stream",
          "text": [
            "e\n",
            "4\n"
          ],
          "name": "stdout"
        },
        {
          "output_type": "display_data",
          "data": {
            "image/png": "[encoded data removed]",
            "text/plain": [
              "<Figure size 144x144 with 1 Axes>"
            ]
          },
          "metadata": {
            "tags": [],
            "needs_background": "light"
          }
        },
        {
          "output_type": "stream",
          "text": [
            "{\n",
            "26\n"
          ],
          "name": "stdout"
        },
        {
          "output_type": "display_data",
          "data": {
            "image/png": "[encoded data removed]",
            "text/plain": [
              "<Figure size 144x144 with 1 Axes>"
            ]
          },
          "metadata": {
            "tags": [],
            "needs_background": "light"
          }
        },
        {
          "output_type": "stream",
          "text": [
            "l\n",
            "11\n"
          ],
          "name": "stdout"
        },
        {
          "output_type": "display_data",
          "data": {
            "image/png": "[encoded data removed]",
            "text/plain": [
              "<Figure size 144x144 with 1 Axes>"
            ]
          },
          "metadata": {
            "tags": [],
            "needs_background": "light"
          }
        },
        {
          "output_type": "stream",
          "text": [
            "o\n",
            "14\n"
          ],
          "name": "stdout"
        },
        {
          "output_type": "display_data",
          "data": {
            "image/png": "[encoded data removed]",
            "text/plain": [
              "<Figure size 144x144 with 1 Axes>"
            ]
          },
          "metadata": {
            "tags": [],
            "needs_background": "light"
          }
        },
        {
          "output_type": "stream",
          "text": [
            "a\n",
            "0\n"
          ],
          "name": "stdout"
        },
        {
          "output_type": "display_data",
          "data": {
            "image/png": "[encoded data removed]",
            "text/plain": [
              "<Figure size 144x144 with 1 Axes>"
            ]
          },
          "metadata": {
            "tags": [],
            "needs_background": "light"
          }
        },
        {
          "output_type": "stream",
          "text": [
            "r\n",
            "17\n"
          ],
          "name": "stdout"
        },
        {
          "output_type": "display_data",
          "data": {
            "image/png": "[encoded data removed]",
            "text/plain": [
              "<Figure size 144x144 with 1 Axes>"
            ]
          },
          "metadata": {
            "tags": [],
            "needs_background": "light"
          }
        },
        {
          "output_type": "stream",
          "text": [
            "n\n",
            "13\n"
          ],
          "name": "stdout"
        },
        {
          "output_type": "display_data",
          "data": {
            "image/png": "[encoded data removed]",
            "text/plain": [
              "<Figure size 144x144 with 1 Axes>"
            ]
          },
          "metadata": {
            "tags": [],
            "needs_background": "light"
          }
        },
        {
          "output_type": "stream",
          "text": [
            "i\n",
            "8\n"
          ],
          "name": "stdout"
        },
        {
          "output_type": "display_data",
          "data": {
            "image/png": "[encoded data removed]",
            "text/plain": [
              "<Figure size 144x144 with 1 Axes>"
            ]
          },
          "metadata": {
            "tags": [],
            "needs_background": "light"
          }
        },
        {
          "output_type": "stream",
          "text": [
            "n\n",
            "13\n"
          ],
          "name": "stdout"
        },
        {
          "output_type": "display_data",
          "data": {
            "image/png": "[encoded data removed]",
            "text/plain": [
              "<Figure size 144x144 with 1 Axes>"
            ]
          },
          "metadata": {
            "tags": [],
            "needs_background": "light"
          }
        },
        {
          "output_type": "stream",
          "text": [
            "g\n",
            "6\n"
          ],
          "name": "stdout"
        }
      ]
    },
    {
      "cell_type": "code",
      "metadata": {
        "colab": {
          "base_uri": "https://localhost:8080/",
          "height": 35
        },
        "id": "ysXJUJxoKL9F",
        "outputId": "a14998f9-45c1-4c6c-9b00-35aa87436cd5"
      },
      "source": [
        "final_text"
      ],
      "execution_count": null,
      "outputs": [
        {
          "output_type": "execute_result",
          "data": {
            "application/vnd.google.colaboratory.intrinsic+json": {
              "type": "string"
            },
            "text/plain": [
              "'welcome to machine loarning'"
            ]
          },
          "metadata": {
            "tags": []
          },
          "execution_count": 43
        }
      ]
    },
    {
      "cell_type": "code",
      "metadata": {
        "id": "b6YLAVty6NX5"
      },
      "source": [
        "# single image prediction\n",
        "from tensorflow.keras.preprocessing import image\n",
        "import numpy as np\n",
        "import pandas as pd\n",
        "\n",
        "img=image.load_img('/content/drive/MyDrive/Braille Collected Dataset/a/a.aug0.jpg')\n",
        "img= img.resize((28,28))\n",
        "\n",
        "plt.imshow(img)\n",
        "\n",
        "x=image.img_to_array(img)\n",
        "x=np.expand_dims(x,axis=0)\n",
        "\n",
        "a=np.argmax(model.predict(x), axis=1)\n",
        "character = chr(ord('a')+a[0])\n",
        "character"
      ],
      "execution_count": null,
      "outputs": []
    },
    {
      "cell_type": "code",
      "metadata": {
        "colab": {
          "base_uri": "https://localhost:8080/"
        },
        "id": "OsXpPeBT7fex",
        "outputId": "c9a90154-2589-44a6-c623-caa1ede72515"
      },
      "source": [
        "import numpy as np\n",
        "import pandas as pd\n",
        "\n",
        "x=np.expand_dims(x,axis=0)\n",
        "model.predict(x)"
      ],
      "execution_count": null,
      "outputs": [
        {
          "output_type": "execute_result",
          "data": {
            "text/plain": [
              "array([[0.0000000e+00, 4.0442018e-19, 1.1874285e-26, 9.0631609e-09,\n",
              "        0.0000000e+00, 4.8218183e-23, 9.9405235e-01, 2.6621496e-16,\n",
              "        9.0727988e-38, 1.8130521e-11, 0.0000000e+00, 1.0752796e-27,\n",
              "        0.0000000e+00, 6.4891863e-11, 5.7486674e-28, 9.6548602e-21,\n",
              "        5.9469934e-03, 1.3456188e-13, 1.3540679e-14, 6.7775858e-07,\n",
              "        4.6219651e-22, 5.4394051e-29, 2.8784032e-24, 0.0000000e+00,\n",
              "        0.0000000e+00, 2.8576707e-24]], dtype=float32)"
            ]
          },
          "metadata": {
            "tags": []
          },
          "execution_count": 78
        }
      ]
    },
    {
      "cell_type": "markdown",
      "metadata": {
        "id": "v1NHmmgZKW7A"
      },
      "source": [
        "**Conversion of Text-to-Speech**"
      ]
    },
    {
      "cell_type": "code",
      "metadata": {
        "colab": {
          "base_uri": "https://localhost:8080/",
          "height": 75
        },
        "id": "QtEOBy2HIY8v",
        "outputId": "0c39abbc-df1a-4f93-f77d-a4f6cd09636f"
      },
      "source": [
        "!pip install gTTS\n",
        "from gtts import gTTS\n",
        "from IPython.display import Audio\n",
        "\n",
        "speech_object = gTTS(text = final_text, lang='en', slow=False)\n",
        "speech_object.save(\"speech.mp3\")\n",
        "Audio(\"speech.mp3\", autoplay=True)"
      ],
      "execution_count": null,
      "outputs": [
        {
          "output_type": "execute_result",
          "data": {
            "text/html": [
              "\n",
              "                <audio controls=\"controls\" autoplay=\"autoplay\">\n",
              "                    <source src=\"data:audio/mpeg;base64,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\" type=\"audio/mpeg\" />\n",
              "                    Your browser does not support the audio element.\n",
              "                </audio>\n",
              "              "
            ],
            "text/plain": [
              "<IPython.lib.display.Audio object>"
            ]
          },
          "metadata": {
            "tags": []
          },
          "execution_count": 44
        }
      ]
    }
  ]
}